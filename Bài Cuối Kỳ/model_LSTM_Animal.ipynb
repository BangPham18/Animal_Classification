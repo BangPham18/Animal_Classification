{
 "cells": [
  {
   "cell_type": "code",
   "execution_count": 2,
   "metadata": {},
   "outputs": [],
   "source": [
    "import import_ipynb\n",
    "from library import *\n",
    "from function_And_Class import get_image_paths, classify_size, Imagetransform, Mydataset, Model\n",
    "from bien_URL import data_directory_Test, data_directory_animals, save_path_vgg, save_path_resnet\n"
   ]
  },
  {
   "cell_type": "markdown",
   "metadata": {},
   "source": [
    "# Xử lý và chuẩn bị dữ liệu"
   ]
  },
  {
   "cell_type": "code",
   "execution_count": 3,
   "metadata": {},
   "outputs": [],
   "source": [
    "torch.manual_seed(18)\n",
    "np.random.seed(18)\n",
    "random.seed(18)"
   ]
  },
  {
   "cell_type": "code",
   "execution_count": null,
   "metadata": {},
   "outputs": [],
   "source": [
    "# Lưu ảnh và nhãn vào hai list\n",
    "data_animal_1, labels_1 = get_image_paths(data_directory_Test)\n",
    "data_animal_2, labels_2 = get_image_paths(data_directory_animals)\n",
    "data_animal = data_animal_1 + data_animal_2\n",
    "labels = list(set(labels_1 + labels_2))\n",
    "\n",
    "# Sắp xếp tên theo bảng chữ cái\n",
    "labels = sorted(labels)"
   ]
  },
  {
   "cell_type": "code",
   "execution_count": null,
   "metadata": {},
   "outputs": [
    {
     "name": "stdout",
     "output_type": "stream",
     "text": [
      "Counter({'khac': 11905})\n"
     ]
    }
   ],
   "source": [
    "# Lấy kích thước ảnh (width x height)\n",
    "image_sizes = [Image.open(path).size for path in data_animal]\n",
    "\n",
    "image_wxh = [f'{w}x{h}' for w,h in image_sizes]\n",
    "\n",
    "# Nhóm ảnh\n",
    "group_labels = [classify_size(size) for size in image_sizes]\n",
    "\n",
    "# Đếm số lượng kích thước ảnh trong từng nhóm\n",
    "group_counts = Counter(group_labels)\n",
    "print(group_counts)"
   ]
  },
  {
   "cell_type": "code",
   "execution_count": null,
   "metadata": {},
   "outputs": [
    {
     "name": "stdout",
     "output_type": "stream",
     "text": [
      "Counter({'RGB': 11868, 'L': 36, 'CMYK': 1})\n"
     ]
    }
   ],
   "source": [
    "# Kiểm tra xem có kênh màu nào khác ngoài RGB không\n",
    "color_modes = [Image.open(path).mode for path in data_animal]  \n",
    "\n",
    "# Đếm số lượng ảnh theo loại kênh màu\n",
    "color_counts = Counter(color_modes)\n",
    "print(color_counts)"
   ]
  },
  {
   "cell_type": "code",
   "execution_count": 7,
   "metadata": {},
   "outputs": [],
   "source": [
    "# Loại bỏ các nhãn trùng lặp (ví dụ: cattle với cow thì loại bỏ cattle)\n",
    "labels.remove(\"ladybugs\")\n",
    "labels.remove('moth')\n",
    "labels.remove('cattle')"
   ]
  },
  {
   "cell_type": "code",
   "execution_count": 9,
   "metadata": {},
   "outputs": [
    {
     "name": "stdout",
     "output_type": "stream",
     "text": [
      "antelope : 0\n",
      "badger : 1\n",
      "bat : 2\n",
      "bear : 3\n",
      "bee : 4\n",
      "beetle : 5\n",
      "bison : 6\n",
      "boar : 7\n",
      "bull : 8\n",
      "butterfly : 9\n",
      "camel : 10\n",
      "canary : 11\n",
      "cat : 12\n",
      "caterpillar : 13\n",
      "centipede : 14\n",
      "cheetah : 15\n",
      "chicken : 16\n",
      "chimpanzee : 17\n",
      "cockroach : 18\n",
      "cow : 19\n",
      "coyote : 20\n",
      "crab : 21\n",
      "crocodile : 22\n",
      "crow : 23\n",
      "deer : 24\n",
      "dog : 25\n",
      "dolphin : 26\n",
      "donkey : 27\n",
      "dragonfly : 28\n",
      "duck : 29\n",
      "eagle : 30\n",
      "elephant : 31\n",
      "fish : 32\n",
      "flamingo : 33\n",
      "fly : 34\n",
      "fox : 35\n",
      "frog : 36\n",
      "giraffe : 37\n",
      "goat : 38\n",
      "goldfish : 39\n",
      "goose : 40\n",
      "gorilla : 41\n",
      "grasshopper : 42\n",
      "hamster : 43\n",
      "harbor seal : 44\n",
      "hare : 45\n",
      "hedgehog : 46\n",
      "hippopotamus : 47\n",
      "hornbill : 48\n",
      "horse : 49\n",
      "hummingbird : 50\n",
      "hyena : 51\n",
      "jaguar : 52\n",
      "jellyfish : 53\n",
      "kangaroo : 54\n",
      "koala : 55\n",
      "ladybug : 56\n",
      "leopard : 57\n",
      "lion : 58\n",
      "lizard : 59\n",
      "lobster : 60\n",
      "lynx : 61\n",
      "magpie : 62\n",
      "monkey : 63\n",
      "mosquito : 64\n",
      "moths and butterflies : 65\n",
      "mouse : 66\n",
      "mule : 67\n",
      "octopus : 68\n",
      "okapi : 69\n",
      "orangutan : 70\n",
      "ostrich : 71\n",
      "otter : 72\n",
      "owl : 73\n",
      "ox : 74\n",
      "oyster : 75\n",
      "panda : 76\n",
      "parrot : 77\n",
      "pelecaniformes : 78\n",
      "penguin : 79\n",
      "pig : 80\n",
      "pigeon : 81\n",
      "polar bear : 82\n",
      "porcupine : 83\n",
      "possum : 84\n",
      "rabbit : 85\n",
      "raccoon : 86\n",
      "rat : 87\n",
      "raven : 88\n",
      "red panda : 89\n",
      "reindeer : 90\n",
      "rhinoceros : 91\n",
      "sandpiper : 92\n",
      "scorpion : 93\n",
      "sea lion : 94\n",
      "sea turtle : 95\n",
      "seahorse : 96\n",
      "seal : 97\n",
      "shark : 98\n",
      "sheep : 99\n",
      "shrimp : 100\n",
      "snail : 101\n",
      "snake : 102\n",
      "sparrow : 103\n",
      "spider : 104\n",
      "squid : 105\n",
      "squirrel : 106\n",
      "starfish : 107\n",
      "swan : 108\n",
      "tick : 109\n",
      "tiger : 110\n",
      "tortoise : 111\n",
      "turkey : 112\n",
      "turtle : 113\n",
      "whale : 114\n",
      "wolf : 115\n",
      "wombat : 116\n",
      "woodpecker : 117\n",
      "worm : 118\n",
      "zebra : 119\n"
     ]
    }
   ],
   "source": [
    "# In ra nhãn và vị trí của nhãn\n",
    "for i in range(len(labels)):\n",
    "    print(f'{labels[i]} : {i}')"
   ]
  },
  {
   "cell_type": "code",
   "execution_count": 10,
   "metadata": {},
   "outputs": [],
   "source": [
    "# Chia thành tập train, val, test\n",
    "random.shuffle(data_animal)\n",
    "split_1 = int(len(data_animal)*0.9)\n",
    "split_2 = int(len(data_animal)*0.95)\n",
    "train_data = data_animal[0:split_1]\n",
    "val_data = data_animal[split_1:split_2]\n",
    "test_data = data_animal[split_2:]"
   ]
  },
  {
   "cell_type": "code",
   "execution_count": 11,
   "metadata": {},
   "outputs": [],
   "source": [
    "# Tạo hai dict để đối chiếu từ nhãn sang số và số sang nhãn\n",
    "label_to_id = {name: idx for idx, name in enumerate(labels)}\n",
    "id_to_label = {idx: name for name, idx in label_to_id.items()}"
   ]
  },
  {
   "cell_type": "code",
   "execution_count": 34,
   "metadata": {},
   "outputs": [
    {
     "name": "stdout",
     "output_type": "stream",
     "text": [
      "parrot\n",
      "77\n"
     ]
    }
   ],
   "source": [
    "print(id_to_label[77])\n",
    "print(label_to_id['parrot'])"
   ]
  },
  {
   "cell_type": "code",
   "execution_count": 13,
   "metadata": {},
   "outputs": [],
   "source": [
    "# Tạo các tham số phù hợp với transform\n",
    "size = 224\n",
    "mean = [0.485, 0.456, 0.406]\n",
    "std = [0.229, 0.224, 0.225]\n",
    "transform = Imagetransform(size, mean, std)"
   ]
  },
  {
   "cell_type": "code",
   "execution_count": 14,
   "metadata": {},
   "outputs": [],
   "source": [
    "train_dataset = Mydataset(train_data, label_to_id, transform, mode = 'train')\n",
    "val_dataset = Mydataset(val_data, label_to_id, transform, mode = 'val')"
   ]
  },
  {
   "cell_type": "code",
   "execution_count": 15,
   "metadata": {},
   "outputs": [
    {
     "data": {
      "text/plain": [
       "(tensor([[[-1.4672, -1.4500, -1.4843,  ..., -1.3473, -1.3302, -1.2959],\n",
       "          [-1.4672, -1.4843, -1.5185,  ..., -1.2445, -1.2445, -1.1932],\n",
       "          [-1.4329, -1.4672, -1.5014,  ..., -1.1247, -1.0904, -1.0562],\n",
       "          ...,\n",
       "          [ 1.4098,  1.3927,  1.4098,  ...,  0.1768,  0.1597,  0.0569],\n",
       "          [ 1.4098,  1.3927,  1.4098,  ...,  0.1254,  0.0741,  0.0056],\n",
       "          [ 1.3927,  1.3755,  1.3755,  ...,  0.1083, -0.0116, -0.0629]],\n",
       " \n",
       "         [[-1.2829, -1.3004, -1.3354,  ..., -1.1429, -1.0728, -1.0028],\n",
       "          [-1.2829, -1.2829, -1.3354,  ..., -1.0378, -0.9853, -0.8978],\n",
       "          [-1.2654, -1.2829, -1.3004,  ..., -0.8627, -0.8102, -0.7227],\n",
       "          ...,\n",
       "          [ 1.7633,  1.7808,  1.7808,  ...,  0.3102,  0.2927,  0.2052],\n",
       "          [ 1.7283,  1.7458,  1.7458,  ...,  0.3102,  0.2227,  0.1352],\n",
       "          [ 1.7108,  1.7458,  1.7458,  ...,  0.2927,  0.1527,  0.0826]],\n",
       " \n",
       "         [[-1.1421, -1.1421, -1.1073,  ..., -0.8807, -0.8458, -0.8110],\n",
       "          [-1.1421, -1.1247, -1.1073,  ..., -0.7761, -0.7413, -0.6541],\n",
       "          [-1.0550, -1.0724, -1.1073,  ..., -0.6018, -0.5321, -0.4450],\n",
       "          ...,\n",
       "          [ 2.1346,  2.1520,  2.1520,  ...,  0.2871,  0.2522,  0.1999],\n",
       "          [ 2.0997,  2.1171,  2.1346,  ...,  0.2522,  0.1999,  0.1302],\n",
       "          [ 2.0997,  2.1171,  2.1171,  ...,  0.2173,  0.1128,  0.0779]]]),\n",
       " 77)"
      ]
     },
     "execution_count": 15,
     "metadata": {},
     "output_type": "execute_result"
    }
   ],
   "source": [
    "train_dataset.__getitem__(0)"
   ]
  },
  {
   "cell_type": "code",
   "execution_count": 16,
   "metadata": {},
   "outputs": [],
   "source": [
    "batch_size = 64\n",
    "train_loader = data.DataLoader(train_dataset, batch_size = batch_size, shuffle = True)\n",
    "val_loader = data.DataLoader(val_dataset, batch_size = batch_size, shuffle = False)\n",
    "dict_loader = {'train': train_loader, 'val': val_loader}"
   ]
  },
  {
   "cell_type": "markdown",
   "metadata": {},
   "source": [
    "# Mô hình"
   ]
  },
  {
   "cell_type": "markdown",
   "metadata": {},
   "source": [
    "### ResNet50"
   ]
  },
  {
   "cell_type": "code",
   "execution_count": 17,
   "metadata": {},
   "outputs": [
    {
     "name": "stderr",
     "output_type": "stream",
     "text": [
      "c:\\Users\\pbang\\AppData\\Local\\Programs\\Python\\Python312\\Lib\\site-packages\\torchvision\\models\\_utils.py:208: UserWarning: The parameter 'pretrained' is deprecated since 0.13 and may be removed in the future, please use 'weights' instead.\n",
      "  warnings.warn(\n",
      "c:\\Users\\pbang\\AppData\\Local\\Programs\\Python\\Python312\\Lib\\site-packages\\torchvision\\models\\_utils.py:223: UserWarning: Arguments other than a weight enum or `None` for 'weights' are deprecated since 0.13 and may be removed in the future. The current behavior is equivalent to passing `weights=ResNet50_Weights.IMAGENET1K_V1`. You can also use `weights=ResNet50_Weights.DEFAULT` to get the most up-to-date weights.\n",
      "  warnings.warn(msg)\n"
     ]
    }
   ],
   "source": [
    "use_pretrain = True\n",
    "model_import_resnet = models.resnet50(pretrained=use_pretrain)\n",
    "model_import_resnet.fc = nn.Linear(model_import_resnet.fc.in_features, 120) \n",
    "model_resnet = Model(model_import_resnet)"
   ]
  },
  {
   "cell_type": "code",
   "execution_count": 18,
   "metadata": {},
   "outputs": [],
   "source": [
    "citerior = nn.CrossEntropyLoss()"
   ]
  },
  {
   "cell_type": "code",
   "execution_count": 19,
   "metadata": {},
   "outputs": [],
   "source": [
    "for param in model_resnet.model.parameters():\n",
    "    param.requires_grad = False\n",
    "\n",
    "# Chỉ cho phép cập nhật trọng số của lớp cuối cùng\n",
    "for param in model_resnet.model.fc.parameters():\n",
    "    param.requires_grad = True\n",
    "\n",
    "optimizer = torch.optim.Adam(model_resnet.model.fc.parameters(), lr=0.0005)"
   ]
  },
  {
   "cell_type": "code",
   "execution_count": 20,
   "metadata": {},
   "outputs": [
    {
     "name": "stdout",
     "output_type": "stream",
     "text": [
      "Epoch 0/9\n",
      "----------\n",
      "val loss: 4.8783 acc: 0.0067\n",
      "Epoch 1/9\n",
      "----------\n",
      "train loss: 2.1290 acc: 0.5808\n",
      "val loss: 0.9490 acc: 0.7731\n",
      "Epoch 2/9\n",
      "----------\n",
      "train loss: 0.7651 acc: 0.8199\n",
      "val loss: 0.6883 acc: 0.7815\n",
      "Epoch 3/9\n",
      "----------\n",
      "train loss: 0.5678 acc: 0.8485\n",
      "val loss: 0.6217 acc: 0.8050\n",
      "Epoch 4/9\n",
      "----------\n",
      "train loss: 0.4841 acc: 0.8625\n",
      "val loss: 0.5707 acc: 0.8202\n",
      "Epoch 5/9\n",
      "----------\n",
      "train loss: 0.4279 acc: 0.8739\n",
      "val loss: 0.5877 acc: 0.8235\n",
      "Epoch 6/9\n",
      "----------\n",
      "train loss: 0.3896 acc: 0.8830\n",
      "val loss: 0.5483 acc: 0.8185\n",
      "Epoch 7/9\n",
      "----------\n",
      "train loss: 0.3596 acc: 0.8895\n",
      "val loss: 0.5344 acc: 0.8370\n",
      "Epoch 8/9\n",
      "----------\n",
      "train loss: 0.3357 acc: 0.8963\n",
      "val loss: 0.5431 acc: 0.8235\n",
      "Epoch 9/9\n",
      "----------\n",
      "train loss: 0.3119 acc: 0.9008\n",
      "val loss: 0.5519 acc: 0.8202\n"
     ]
    },
    {
     "data": {
      "text/plain": [
       "ResNet(\n",
       "  (conv1): Conv2d(3, 64, kernel_size=(7, 7), stride=(2, 2), padding=(3, 3), bias=False)\n",
       "  (bn1): BatchNorm2d(64, eps=1e-05, momentum=0.1, affine=True, track_running_stats=True)\n",
       "  (relu): ReLU(inplace=True)\n",
       "  (maxpool): MaxPool2d(kernel_size=3, stride=2, padding=1, dilation=1, ceil_mode=False)\n",
       "  (layer1): Sequential(\n",
       "    (0): Bottleneck(\n",
       "      (conv1): Conv2d(64, 64, kernel_size=(1, 1), stride=(1, 1), bias=False)\n",
       "      (bn1): BatchNorm2d(64, eps=1e-05, momentum=0.1, affine=True, track_running_stats=True)\n",
       "      (conv2): Conv2d(64, 64, kernel_size=(3, 3), stride=(1, 1), padding=(1, 1), bias=False)\n",
       "      (bn2): BatchNorm2d(64, eps=1e-05, momentum=0.1, affine=True, track_running_stats=True)\n",
       "      (conv3): Conv2d(64, 256, kernel_size=(1, 1), stride=(1, 1), bias=False)\n",
       "      (bn3): BatchNorm2d(256, eps=1e-05, momentum=0.1, affine=True, track_running_stats=True)\n",
       "      (relu): ReLU(inplace=True)\n",
       "      (downsample): Sequential(\n",
       "        (0): Conv2d(64, 256, kernel_size=(1, 1), stride=(1, 1), bias=False)\n",
       "        (1): BatchNorm2d(256, eps=1e-05, momentum=0.1, affine=True, track_running_stats=True)\n",
       "      )\n",
       "    )\n",
       "    (1): Bottleneck(\n",
       "      (conv1): Conv2d(256, 64, kernel_size=(1, 1), stride=(1, 1), bias=False)\n",
       "      (bn1): BatchNorm2d(64, eps=1e-05, momentum=0.1, affine=True, track_running_stats=True)\n",
       "      (conv2): Conv2d(64, 64, kernel_size=(3, 3), stride=(1, 1), padding=(1, 1), bias=False)\n",
       "      (bn2): BatchNorm2d(64, eps=1e-05, momentum=0.1, affine=True, track_running_stats=True)\n",
       "      (conv3): Conv2d(64, 256, kernel_size=(1, 1), stride=(1, 1), bias=False)\n",
       "      (bn3): BatchNorm2d(256, eps=1e-05, momentum=0.1, affine=True, track_running_stats=True)\n",
       "      (relu): ReLU(inplace=True)\n",
       "    )\n",
       "    (2): Bottleneck(\n",
       "      (conv1): Conv2d(256, 64, kernel_size=(1, 1), stride=(1, 1), bias=False)\n",
       "      (bn1): BatchNorm2d(64, eps=1e-05, momentum=0.1, affine=True, track_running_stats=True)\n",
       "      (conv2): Conv2d(64, 64, kernel_size=(3, 3), stride=(1, 1), padding=(1, 1), bias=False)\n",
       "      (bn2): BatchNorm2d(64, eps=1e-05, momentum=0.1, affine=True, track_running_stats=True)\n",
       "      (conv3): Conv2d(64, 256, kernel_size=(1, 1), stride=(1, 1), bias=False)\n",
       "      (bn3): BatchNorm2d(256, eps=1e-05, momentum=0.1, affine=True, track_running_stats=True)\n",
       "      (relu): ReLU(inplace=True)\n",
       "    )\n",
       "  )\n",
       "  (layer2): Sequential(\n",
       "    (0): Bottleneck(\n",
       "      (conv1): Conv2d(256, 128, kernel_size=(1, 1), stride=(1, 1), bias=False)\n",
       "      (bn1): BatchNorm2d(128, eps=1e-05, momentum=0.1, affine=True, track_running_stats=True)\n",
       "      (conv2): Conv2d(128, 128, kernel_size=(3, 3), stride=(2, 2), padding=(1, 1), bias=False)\n",
       "      (bn2): BatchNorm2d(128, eps=1e-05, momentum=0.1, affine=True, track_running_stats=True)\n",
       "      (conv3): Conv2d(128, 512, kernel_size=(1, 1), stride=(1, 1), bias=False)\n",
       "      (bn3): BatchNorm2d(512, eps=1e-05, momentum=0.1, affine=True, track_running_stats=True)\n",
       "      (relu): ReLU(inplace=True)\n",
       "      (downsample): Sequential(\n",
       "        (0): Conv2d(256, 512, kernel_size=(1, 1), stride=(2, 2), bias=False)\n",
       "        (1): BatchNorm2d(512, eps=1e-05, momentum=0.1, affine=True, track_running_stats=True)\n",
       "      )\n",
       "    )\n",
       "    (1): Bottleneck(\n",
       "      (conv1): Conv2d(512, 128, kernel_size=(1, 1), stride=(1, 1), bias=False)\n",
       "      (bn1): BatchNorm2d(128, eps=1e-05, momentum=0.1, affine=True, track_running_stats=True)\n",
       "      (conv2): Conv2d(128, 128, kernel_size=(3, 3), stride=(1, 1), padding=(1, 1), bias=False)\n",
       "      (bn2): BatchNorm2d(128, eps=1e-05, momentum=0.1, affine=True, track_running_stats=True)\n",
       "      (conv3): Conv2d(128, 512, kernel_size=(1, 1), stride=(1, 1), bias=False)\n",
       "      (bn3): BatchNorm2d(512, eps=1e-05, momentum=0.1, affine=True, track_running_stats=True)\n",
       "      (relu): ReLU(inplace=True)\n",
       "    )\n",
       "    (2): Bottleneck(\n",
       "      (conv1): Conv2d(512, 128, kernel_size=(1, 1), stride=(1, 1), bias=False)\n",
       "      (bn1): BatchNorm2d(128, eps=1e-05, momentum=0.1, affine=True, track_running_stats=True)\n",
       "      (conv2): Conv2d(128, 128, kernel_size=(3, 3), stride=(1, 1), padding=(1, 1), bias=False)\n",
       "      (bn2): BatchNorm2d(128, eps=1e-05, momentum=0.1, affine=True, track_running_stats=True)\n",
       "      (conv3): Conv2d(128, 512, kernel_size=(1, 1), stride=(1, 1), bias=False)\n",
       "      (bn3): BatchNorm2d(512, eps=1e-05, momentum=0.1, affine=True, track_running_stats=True)\n",
       "      (relu): ReLU(inplace=True)\n",
       "    )\n",
       "    (3): Bottleneck(\n",
       "      (conv1): Conv2d(512, 128, kernel_size=(1, 1), stride=(1, 1), bias=False)\n",
       "      (bn1): BatchNorm2d(128, eps=1e-05, momentum=0.1, affine=True, track_running_stats=True)\n",
       "      (conv2): Conv2d(128, 128, kernel_size=(3, 3), stride=(1, 1), padding=(1, 1), bias=False)\n",
       "      (bn2): BatchNorm2d(128, eps=1e-05, momentum=0.1, affine=True, track_running_stats=True)\n",
       "      (conv3): Conv2d(128, 512, kernel_size=(1, 1), stride=(1, 1), bias=False)\n",
       "      (bn3): BatchNorm2d(512, eps=1e-05, momentum=0.1, affine=True, track_running_stats=True)\n",
       "      (relu): ReLU(inplace=True)\n",
       "    )\n",
       "  )\n",
       "  (layer3): Sequential(\n",
       "    (0): Bottleneck(\n",
       "      (conv1): Conv2d(512, 256, kernel_size=(1, 1), stride=(1, 1), bias=False)\n",
       "      (bn1): BatchNorm2d(256, eps=1e-05, momentum=0.1, affine=True, track_running_stats=True)\n",
       "      (conv2): Conv2d(256, 256, kernel_size=(3, 3), stride=(2, 2), padding=(1, 1), bias=False)\n",
       "      (bn2): BatchNorm2d(256, eps=1e-05, momentum=0.1, affine=True, track_running_stats=True)\n",
       "      (conv3): Conv2d(256, 1024, kernel_size=(1, 1), stride=(1, 1), bias=False)\n",
       "      (bn3): BatchNorm2d(1024, eps=1e-05, momentum=0.1, affine=True, track_running_stats=True)\n",
       "      (relu): ReLU(inplace=True)\n",
       "      (downsample): Sequential(\n",
       "        (0): Conv2d(512, 1024, kernel_size=(1, 1), stride=(2, 2), bias=False)\n",
       "        (1): BatchNorm2d(1024, eps=1e-05, momentum=0.1, affine=True, track_running_stats=True)\n",
       "      )\n",
       "    )\n",
       "    (1): Bottleneck(\n",
       "      (conv1): Conv2d(1024, 256, kernel_size=(1, 1), stride=(1, 1), bias=False)\n",
       "      (bn1): BatchNorm2d(256, eps=1e-05, momentum=0.1, affine=True, track_running_stats=True)\n",
       "      (conv2): Conv2d(256, 256, kernel_size=(3, 3), stride=(1, 1), padding=(1, 1), bias=False)\n",
       "      (bn2): BatchNorm2d(256, eps=1e-05, momentum=0.1, affine=True, track_running_stats=True)\n",
       "      (conv3): Conv2d(256, 1024, kernel_size=(1, 1), stride=(1, 1), bias=False)\n",
       "      (bn3): BatchNorm2d(1024, eps=1e-05, momentum=0.1, affine=True, track_running_stats=True)\n",
       "      (relu): ReLU(inplace=True)\n",
       "    )\n",
       "    (2): Bottleneck(\n",
       "      (conv1): Conv2d(1024, 256, kernel_size=(1, 1), stride=(1, 1), bias=False)\n",
       "      (bn1): BatchNorm2d(256, eps=1e-05, momentum=0.1, affine=True, track_running_stats=True)\n",
       "      (conv2): Conv2d(256, 256, kernel_size=(3, 3), stride=(1, 1), padding=(1, 1), bias=False)\n",
       "      (bn2): BatchNorm2d(256, eps=1e-05, momentum=0.1, affine=True, track_running_stats=True)\n",
       "      (conv3): Conv2d(256, 1024, kernel_size=(1, 1), stride=(1, 1), bias=False)\n",
       "      (bn3): BatchNorm2d(1024, eps=1e-05, momentum=0.1, affine=True, track_running_stats=True)\n",
       "      (relu): ReLU(inplace=True)\n",
       "    )\n",
       "    (3): Bottleneck(\n",
       "      (conv1): Conv2d(1024, 256, kernel_size=(1, 1), stride=(1, 1), bias=False)\n",
       "      (bn1): BatchNorm2d(256, eps=1e-05, momentum=0.1, affine=True, track_running_stats=True)\n",
       "      (conv2): Conv2d(256, 256, kernel_size=(3, 3), stride=(1, 1), padding=(1, 1), bias=False)\n",
       "      (bn2): BatchNorm2d(256, eps=1e-05, momentum=0.1, affine=True, track_running_stats=True)\n",
       "      (conv3): Conv2d(256, 1024, kernel_size=(1, 1), stride=(1, 1), bias=False)\n",
       "      (bn3): BatchNorm2d(1024, eps=1e-05, momentum=0.1, affine=True, track_running_stats=True)\n",
       "      (relu): ReLU(inplace=True)\n",
       "    )\n",
       "    (4): Bottleneck(\n",
       "      (conv1): Conv2d(1024, 256, kernel_size=(1, 1), stride=(1, 1), bias=False)\n",
       "      (bn1): BatchNorm2d(256, eps=1e-05, momentum=0.1, affine=True, track_running_stats=True)\n",
       "      (conv2): Conv2d(256, 256, kernel_size=(3, 3), stride=(1, 1), padding=(1, 1), bias=False)\n",
       "      (bn2): BatchNorm2d(256, eps=1e-05, momentum=0.1, affine=True, track_running_stats=True)\n",
       "      (conv3): Conv2d(256, 1024, kernel_size=(1, 1), stride=(1, 1), bias=False)\n",
       "      (bn3): BatchNorm2d(1024, eps=1e-05, momentum=0.1, affine=True, track_running_stats=True)\n",
       "      (relu): ReLU(inplace=True)\n",
       "    )\n",
       "    (5): Bottleneck(\n",
       "      (conv1): Conv2d(1024, 256, kernel_size=(1, 1), stride=(1, 1), bias=False)\n",
       "      (bn1): BatchNorm2d(256, eps=1e-05, momentum=0.1, affine=True, track_running_stats=True)\n",
       "      (conv2): Conv2d(256, 256, kernel_size=(3, 3), stride=(1, 1), padding=(1, 1), bias=False)\n",
       "      (bn2): BatchNorm2d(256, eps=1e-05, momentum=0.1, affine=True, track_running_stats=True)\n",
       "      (conv3): Conv2d(256, 1024, kernel_size=(1, 1), stride=(1, 1), bias=False)\n",
       "      (bn3): BatchNorm2d(1024, eps=1e-05, momentum=0.1, affine=True, track_running_stats=True)\n",
       "      (relu): ReLU(inplace=True)\n",
       "    )\n",
       "  )\n",
       "  (layer4): Sequential(\n",
       "    (0): Bottleneck(\n",
       "      (conv1): Conv2d(1024, 512, kernel_size=(1, 1), stride=(1, 1), bias=False)\n",
       "      (bn1): BatchNorm2d(512, eps=1e-05, momentum=0.1, affine=True, track_running_stats=True)\n",
       "      (conv2): Conv2d(512, 512, kernel_size=(3, 3), stride=(2, 2), padding=(1, 1), bias=False)\n",
       "      (bn2): BatchNorm2d(512, eps=1e-05, momentum=0.1, affine=True, track_running_stats=True)\n",
       "      (conv3): Conv2d(512, 2048, kernel_size=(1, 1), stride=(1, 1), bias=False)\n",
       "      (bn3): BatchNorm2d(2048, eps=1e-05, momentum=0.1, affine=True, track_running_stats=True)\n",
       "      (relu): ReLU(inplace=True)\n",
       "      (downsample): Sequential(\n",
       "        (0): Conv2d(1024, 2048, kernel_size=(1, 1), stride=(2, 2), bias=False)\n",
       "        (1): BatchNorm2d(2048, eps=1e-05, momentum=0.1, affine=True, track_running_stats=True)\n",
       "      )\n",
       "    )\n",
       "    (1): Bottleneck(\n",
       "      (conv1): Conv2d(2048, 512, kernel_size=(1, 1), stride=(1, 1), bias=False)\n",
       "      (bn1): BatchNorm2d(512, eps=1e-05, momentum=0.1, affine=True, track_running_stats=True)\n",
       "      (conv2): Conv2d(512, 512, kernel_size=(3, 3), stride=(1, 1), padding=(1, 1), bias=False)\n",
       "      (bn2): BatchNorm2d(512, eps=1e-05, momentum=0.1, affine=True, track_running_stats=True)\n",
       "      (conv3): Conv2d(512, 2048, kernel_size=(1, 1), stride=(1, 1), bias=False)\n",
       "      (bn3): BatchNorm2d(2048, eps=1e-05, momentum=0.1, affine=True, track_running_stats=True)\n",
       "      (relu): ReLU(inplace=True)\n",
       "    )\n",
       "    (2): Bottleneck(\n",
       "      (conv1): Conv2d(2048, 512, kernel_size=(1, 1), stride=(1, 1), bias=False)\n",
       "      (bn1): BatchNorm2d(512, eps=1e-05, momentum=0.1, affine=True, track_running_stats=True)\n",
       "      (conv2): Conv2d(512, 512, kernel_size=(3, 3), stride=(1, 1), padding=(1, 1), bias=False)\n",
       "      (bn2): BatchNorm2d(512, eps=1e-05, momentum=0.1, affine=True, track_running_stats=True)\n",
       "      (conv3): Conv2d(512, 2048, kernel_size=(1, 1), stride=(1, 1), bias=False)\n",
       "      (bn3): BatchNorm2d(2048, eps=1e-05, momentum=0.1, affine=True, track_running_stats=True)\n",
       "      (relu): ReLU(inplace=True)\n",
       "    )\n",
       "  )\n",
       "  (avgpool): AdaptiveAvgPool2d(output_size=(1, 1))\n",
       "  (fc): Linear(in_features=2048, out_features=120, bias=True)\n",
       ")"
      ]
     },
     "execution_count": 20,
     "metadata": {},
     "output_type": "execute_result"
    }
   ],
   "source": [
    "num_epoch = 10\n",
    "model_resnet.train_model(dict_loader, citerior, optimizer, num_epoch)"
   ]
  },
  {
   "cell_type": "code",
   "execution_count": 22,
   "metadata": {},
   "outputs": [],
   "source": [
    "save_model_resnet = torch.save(model_resnet.model.state_dict(), save_path_resnet)"
   ]
  },
  {
   "cell_type": "markdown",
   "metadata": {},
   "source": [
    "### VGG16"
   ]
  },
  {
   "cell_type": "code",
   "execution_count": 23,
   "metadata": {},
   "outputs": [
    {
     "name": "stderr",
     "output_type": "stream",
     "text": [
      "c:\\Users\\pbang\\AppData\\Local\\Programs\\Python\\Python312\\Lib\\site-packages\\torchvision\\models\\_utils.py:208: UserWarning: The parameter 'pretrained' is deprecated since 0.13 and may be removed in the future, please use 'weights' instead.\n",
      "  warnings.warn(\n",
      "c:\\Users\\pbang\\AppData\\Local\\Programs\\Python\\Python312\\Lib\\site-packages\\torchvision\\models\\_utils.py:223: UserWarning: Arguments other than a weight enum or `None` for 'weights' are deprecated since 0.13 and may be removed in the future. The current behavior is equivalent to passing `weights=VGG16_Weights.IMAGENET1K_V1`. You can also use `weights=VGG16_Weights.DEFAULT` to get the most up-to-date weights.\n",
      "  warnings.warn(msg)\n"
     ]
    }
   ],
   "source": [
    "use_pretrain = True\n",
    "model_import_vgg = models.vgg16(pretrained = use_pretrain)\n",
    "model_import_vgg.classifier[6] = nn.Linear(4096, 120)\n",
    "model_vgg = Model(model_import_vgg)"
   ]
  },
  {
   "cell_type": "code",
   "execution_count": 24,
   "metadata": {},
   "outputs": [],
   "source": [
    "citerior = nn.CrossEntropyLoss()"
   ]
  },
  {
   "cell_type": "code",
   "execution_count": null,
   "metadata": {},
   "outputs": [],
   "source": [
    "for param in model_vgg.model.features.parameters():  # Đóng băng phần feature extractor\n",
    "    param.requires_grad = False\n",
    "    \n",
    "for param in model_vgg.model.classifier[:-1].parameters():  # Đóng băng tất cả lớp fully connected trừ lớp cuối\n",
    "    param.requires_grad = False\n",
    "\n",
    "optimizer = torch.optim.Adam(model_vgg.model.classifier[6].parameters(), lr=0.0005)"
   ]
  },
  {
   "cell_type": "code",
   "execution_count": 26,
   "metadata": {},
   "outputs": [
    {
     "name": "stdout",
     "output_type": "stream",
     "text": [
      "Epoch 0/9\n",
      "----------\n",
      "val loss: 4.8924 acc: 0.0050\n",
      "Epoch 1/9\n",
      "----------\n",
      "train loss: 1.4081 acc: 0.6464\n",
      "val loss: 0.7356 acc: 0.7815\n",
      "Epoch 2/9\n",
      "----------\n",
      "train loss: 0.6179 acc: 0.8101\n",
      "val loss: 0.6567 acc: 0.7899\n",
      "Epoch 3/9\n",
      "----------\n",
      "train loss: 0.5119 acc: 0.8366\n",
      "val loss: 0.6120 acc: 0.8017\n",
      "Epoch 4/9\n",
      "----------\n",
      "train loss: 0.4492 acc: 0.8500\n",
      "val loss: 0.6136 acc: 0.8000\n",
      "Epoch 5/9\n",
      "----------\n",
      "train loss: 0.4055 acc: 0.8606\n",
      "val loss: 0.6303 acc: 0.7966\n",
      "Epoch 6/9\n",
      "----------\n",
      "train loss: 0.3803 acc: 0.8693\n",
      "val loss: 0.6189 acc: 0.7983\n",
      "Epoch 7/9\n",
      "----------\n",
      "train loss: 0.3539 acc: 0.8790\n",
      "val loss: 0.6448 acc: 0.7966\n",
      "Epoch 8/9\n",
      "----------\n",
      "train loss: 0.3437 acc: 0.8771\n",
      "val loss: 0.6421 acc: 0.8050\n",
      "Epoch 9/9\n",
      "----------\n",
      "train loss: 0.3335 acc: 0.8813\n",
      "val loss: 0.6679 acc: 0.7916\n"
     ]
    },
    {
     "data": {
      "text/plain": [
       "VGG(\n",
       "  (features): Sequential(\n",
       "    (0): Conv2d(3, 64, kernel_size=(3, 3), stride=(1, 1), padding=(1, 1))\n",
       "    (1): ReLU(inplace=True)\n",
       "    (2): Conv2d(64, 64, kernel_size=(3, 3), stride=(1, 1), padding=(1, 1))\n",
       "    (3): ReLU(inplace=True)\n",
       "    (4): MaxPool2d(kernel_size=2, stride=2, padding=0, dilation=1, ceil_mode=False)\n",
       "    (5): Conv2d(64, 128, kernel_size=(3, 3), stride=(1, 1), padding=(1, 1))\n",
       "    (6): ReLU(inplace=True)\n",
       "    (7): Conv2d(128, 128, kernel_size=(3, 3), stride=(1, 1), padding=(1, 1))\n",
       "    (8): ReLU(inplace=True)\n",
       "    (9): MaxPool2d(kernel_size=2, stride=2, padding=0, dilation=1, ceil_mode=False)\n",
       "    (10): Conv2d(128, 256, kernel_size=(3, 3), stride=(1, 1), padding=(1, 1))\n",
       "    (11): ReLU(inplace=True)\n",
       "    (12): Conv2d(256, 256, kernel_size=(3, 3), stride=(1, 1), padding=(1, 1))\n",
       "    (13): ReLU(inplace=True)\n",
       "    (14): Conv2d(256, 256, kernel_size=(3, 3), stride=(1, 1), padding=(1, 1))\n",
       "    (15): ReLU(inplace=True)\n",
       "    (16): MaxPool2d(kernel_size=2, stride=2, padding=0, dilation=1, ceil_mode=False)\n",
       "    (17): Conv2d(256, 512, kernel_size=(3, 3), stride=(1, 1), padding=(1, 1))\n",
       "    (18): ReLU(inplace=True)\n",
       "    (19): Conv2d(512, 512, kernel_size=(3, 3), stride=(1, 1), padding=(1, 1))\n",
       "    (20): ReLU(inplace=True)\n",
       "    (21): Conv2d(512, 512, kernel_size=(3, 3), stride=(1, 1), padding=(1, 1))\n",
       "    (22): ReLU(inplace=True)\n",
       "    (23): MaxPool2d(kernel_size=2, stride=2, padding=0, dilation=1, ceil_mode=False)\n",
       "    (24): Conv2d(512, 512, kernel_size=(3, 3), stride=(1, 1), padding=(1, 1))\n",
       "    (25): ReLU(inplace=True)\n",
       "    (26): Conv2d(512, 512, kernel_size=(3, 3), stride=(1, 1), padding=(1, 1))\n",
       "    (27): ReLU(inplace=True)\n",
       "    (28): Conv2d(512, 512, kernel_size=(3, 3), stride=(1, 1), padding=(1, 1))\n",
       "    (29): ReLU(inplace=True)\n",
       "    (30): MaxPool2d(kernel_size=2, stride=2, padding=0, dilation=1, ceil_mode=False)\n",
       "  )\n",
       "  (avgpool): AdaptiveAvgPool2d(output_size=(7, 7))\n",
       "  (classifier): Sequential(\n",
       "    (0): Linear(in_features=25088, out_features=4096, bias=True)\n",
       "    (1): ReLU(inplace=True)\n",
       "    (2): Dropout(p=0.5, inplace=False)\n",
       "    (3): Linear(in_features=4096, out_features=4096, bias=True)\n",
       "    (4): ReLU(inplace=True)\n",
       "    (5): Dropout(p=0.5, inplace=False)\n",
       "    (6): Linear(in_features=4096, out_features=120, bias=True)\n",
       "  )\n",
       ")"
      ]
     },
     "execution_count": 26,
     "metadata": {},
     "output_type": "execute_result"
    }
   ],
   "source": [
    "num_epoch = 10\n",
    "model_vgg.train_model(dict_loader, citerior, optimizer, num_epoch)"
   ]
  },
  {
   "cell_type": "code",
   "execution_count": 27,
   "metadata": {},
   "outputs": [],
   "source": [
    "save_model_vgg = torch.save(model_vgg.model.state_dict(), save_path_vgg)"
   ]
  },
  {
   "cell_type": "markdown",
   "metadata": {},
   "source": [
    "### So sánh hai mô hình ResNet50 và VGG16"
   ]
  },
  {
   "cell_type": "code",
   "execution_count": 31,
   "metadata": {},
   "outputs": [
    {
     "data": {
      "image/png": "[encoded data removed]",
      "text/plain": [
       "<Figure size 1200x500 with 2 Axes>"
      ]
     },
     "metadata": {},
     "output_type": "display_data"
    }
   ],
   "source": [
    "models = [\"ResNet50\", \"VGG16\"]\n",
    "accuracy = [0.82, 0.8]  # Lấy độ chính xác từ mô hình\n",
    "train_time = [133, 216]  # Lấy thời gian train từ mô hình\n",
    "\n",
    "# Vẽ biểu đồ\n",
    "fig, axes = plt.subplots(1, 2, figsize=(12, 5))\n",
    "\n",
    "# Biểu đồ độ chính xác\n",
    "axes[0].bar(models, accuracy, color=['blue', 'green'])\n",
    "axes[0].set_title(\"So sánh độ chính xác\")\n",
    "axes[0].set_ylabel(\"Accuracy\")\n",
    "axes[0].set_ylim(0, 1)\n",
    "\n",
    "# Biểu đồ thời gian huấn luyện\n",
    "axes[1].bar(models, train_time, color=['red', 'orange'])\n",
    "axes[1].set_title(\"So sánh thời gian huấn luyện\")\n",
    "axes[1].set_ylabel(\"Thời gian (phút)\")\n",
    "\n",
    "# Hiển thị giá trị trên cột\n",
    "for i, v in enumerate(accuracy):\n",
    "    axes[0].text(i, v + 0.02, f\"{v:.2f}\", ha='center', fontsize=12)\n",
    "\n",
    "for i, v in enumerate(train_time):\n",
    "    axes[1].text(i, v + 5, f\"{v:.0f}s\", ha='center', fontsize=12)\n",
    "\n",
    "plt.tight_layout()\n",
    "plt.show()"
   ]
  }
 ],
 "metadata": {
  "kernelspec": {
   "display_name": "Python 3",
   "language": "python",
   "name": "python3"
  },
  "language_info": {
   "codemirror_mode": {
    "name": "ipython",
    "version": 3
   },
   "file_extension": ".py",
   "mimetype": "text/x-python",
   "name": "python",
   "nbconvert_exporter": "python",
   "pygments_lexer": "ipython3",
   "version": "3.12.3"
  }
 },
 "nbformat": 4,
 "nbformat_minor": 2
}
