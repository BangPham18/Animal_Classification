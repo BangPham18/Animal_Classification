{
 "cells": [
  {
   "cell_type": "code",
   "execution_count": 16,
   "metadata": {},
   "outputs": [],
   "source": [
    "import import_ipynb\n",
    "from library import *"
   ]
  },
  {
   "cell_type": "code",
   "execution_count": 17,
   "metadata": {},
   "outputs": [],
   "source": [
    "# lấy nhãn và đường dẫn đến ảnh\n",
    "def get_image_paths(data_dir):\n",
    "    \"\"\"\n",
    "    Lấy tất cả đường link ảnh dựa vào tập (train, test) rồi lưu vào list.\n",
    "\n",
    "    Args:\n",
    "        data_dir: Đường dẫn đến thư mục chứa dữ liệu (train, test).\n",
    "\n",
    "    Returns:\n",
    "        Một dictionary chứa hai list: train_paths và test_paths, tương ứng với các đường dẫn ảnh trong tập train và test.\n",
    "    \"\"\"\n",
    "    paths = []\n",
    "    label = []\n",
    "  # Duyệt qua các thư mục con\n",
    "    if os.path.isdir(data_dir):\n",
    "        for class_name in os.listdir(data_dir):\n",
    "            class_dir = os.path.join(data_dir, class_name)\n",
    "            label.append(class_name.lower())\n",
    "            if os.path.isdir(class_dir):\n",
    "                image_paths = glob.glob(os.path.join(class_dir, '*.jpg')) + glob.glob(os.path.join(class_dir, '*.png'))  # Thêm hỗ trợ cho file png\n",
    "                paths.extend(image_paths)\n",
    "    return paths, label"
   ]
  },
  {
   "cell_type": "code",
   "execution_count": 18,
   "metadata": {},
   "outputs": [],
   "source": [
    "# Hàm phân loại từng ảnh theo nhóm kích thước\n",
    "def classify_size(size_tuple):\n",
    "    img = size_tuple\n",
    "    if img == '224x224':\n",
    "        return \"224x224\"\n",
    "    else:\n",
    "        return \"khac\""
   ]
  },
  {
   "cell_type": "code",
   "execution_count": 19,
   "metadata": {},
   "outputs": [],
   "source": [
    "class Imagetransform():\n",
    "  def __init__(self, resize, mean, std):\n",
    "    self.data_transform = {\n",
    "        'train':transforms.Compose([\n",
    "            transforms.RandomResizedCrop(resize,scale = (0.5, 1.0)),\n",
    "            transforms.RandomHorizontalFlip(),\n",
    "            transforms.ToTensor(),\n",
    "            transforms.Normalize(mean, std)\n",
    "        ]),\n",
    "        'val': transforms.Compose([\n",
    "            transforms.Resize(resize),\n",
    "            transforms.CenterCrop(resize),\n",
    "            transforms.ToTensor(),\n",
    "            transforms.Normalize(mean, std)\n",
    "        ]),\n",
    "    }\n",
    "\n",
    "  def __call__(self, img, mode = 'train'):\n",
    "    return self.data_transform[mode](img)"
   ]
  },
  {
   "cell_type": "code",
   "execution_count": 20,
   "metadata": {},
   "outputs": [],
   "source": [
    "class Mydataset(data.Dataset):\n",
    "  def __init__(self, paths, label_map, transform, mode = 'train'):\n",
    "    self.paths = paths\n",
    "    self.transform = transform\n",
    "    self.mode = mode\n",
    "    self.label_map = label_map\n",
    "  def __len__(self):\n",
    "    return len(self.paths)\n",
    "  def __getitem__(self, idx):\n",
    "    img_path = self.paths[idx]\n",
    "    img = Image.open(img_path).convert(\"RGB\")\n",
    "    img_trans = self.transform(img, mode = self.mode)\n",
    "    label_name = img_path.split('\\\\')[-2].lower()\n",
    "    # chuyển đổi những ảnh có nhãn trùng thành nhãn duy nhất\n",
    "    if label_name == 'cattle':\n",
    "      label_name = 'cow'\n",
    "    elif label_name == 'ladybugs':\n",
    "      label_name = 'ladybug'\n",
    "    elif label_name == 'moth':\n",
    "      label_name = 'moths and butterflies'\n",
    "    label = self.label_map[label_name]\n",
    "    return img_trans, label"
   ]
  },
  {
   "cell_type": "code",
   "execution_count": null,
   "metadata": {},
   "outputs": [],
   "source": [
    "class Model():\n",
    "    def __init__(self, model_pr):\n",
    "        self.model = model_pr\n",
    "    def predict(self, image):\n",
    "        self.model.eval() \n",
    "        with torch.no_grad():  \n",
    "            output = self.model(image) \n",
    "            predicted_class = torch.argmax(output, 1)\n",
    "        return predicted_class.item()  \n",
    "    def train_model(self, dict_loader, citerior, optimizer, num_epochs = 25):\n",
    "        for epoch in range(num_epochs):\n",
    "            print('Epoch {}/{}'.format(epoch, num_epochs - 1))\n",
    "            print('-' * 10)\n",
    "            for phase in ['train', 'val']:\n",
    "                if phase == 'train':\n",
    "                    self.model.train()\n",
    "                else:\n",
    "                    self.model.eval()\n",
    "                epoch_loss = 0.0\n",
    "                epoch_correct = 0\n",
    "                if (epoch == 0) and (phase == 'train'):\n",
    "                    continue\n",
    "                for inputs, labels in dict_loader[phase]:\n",
    "                    optimizer.zero_grad()\n",
    "                    with torch.set_grad_enabled(phase == 'train'):\n",
    "                        outputs = self.model(inputs)\n",
    "                        _, preds = torch.max(outputs, 1)\n",
    "                        loss = citerior(outputs, labels)\n",
    "                        if phase == 'train':\n",
    "                            loss.backward()\n",
    "                            optimizer.step()\n",
    "\n",
    "                        epoch_loss += loss.item()*inputs.size(0)\n",
    "                        epoch_correct += torch.sum(preds == labels.data)\n",
    "                epoch_loss = epoch_loss / len(dict_loader[phase].dataset)\n",
    "                epoch_acc = epoch_correct.double() / len(dict_loader[phase].dataset)\n",
    "\n",
    "                print(f'{phase} loss: {epoch_loss:.4f} acc: {epoch_acc:.4f}')\n",
    "        return self.model"
   ]
  },
  {
   "cell_type": "code",
   "execution_count": 23,
   "metadata": {},
   "outputs": [],
   "source": [
    "def load_model(model_path, net):\n",
    "  load_weights = torch.load(model_path)\n",
    "  net.load_state_dict(load_weights)\n",
    "  return net"
   ]
  }
 ],
 "metadata": {
  "kernelspec": {
   "display_name": "Python 3",
   "language": "python",
   "name": "python3"
  },
  "language_info": {
   "codemirror_mode": {
    "name": "ipython",
    "version": 3
   },
   "file_extension": ".py",
   "mimetype": "text/x-python",
   "name": "python",
   "nbconvert_exporter": "python",
   "pygments_lexer": "ipython3",
   "version": "3.12.3"
  }
 },
 "nbformat": 4,
 "nbformat_minor": 2
}
