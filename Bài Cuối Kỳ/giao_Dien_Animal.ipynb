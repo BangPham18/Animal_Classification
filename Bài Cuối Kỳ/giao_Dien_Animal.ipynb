{
 "cells": [
  {
   "cell_type": "code",
   "execution_count": 127,
   "metadata": {},
   "outputs": [],
   "source": [
    "import import_ipynb\n",
    "from library import *\n",
    "from function_And_Class import get_image_paths, Imagetransform, load_model, Model\n",
    "from bien_URL import data_directory_Test, data_directory_animals, save_path_resnet"
   ]
  },
  {
   "cell_type": "code",
   "execution_count": 128,
   "metadata": {},
   "outputs": [
    {
     "ename": "FileNotFoundError",
     "evalue": "[Errno 2] No such file or directory: 'C:/Users/pbang/Downloads/model_resnet.pth'",
     "output_type": "error",
     "traceback": [
      "\u001b[1;31m---------------------------------------------------------------------------\u001b[0m",
      "\u001b[1;31mFileNotFoundError\u001b[0m                         Traceback (most recent call last)",
      "Cell \u001b[1;32mIn[128], line 4\u001b[0m\n\u001b[0;32m      2\u001b[0m model \u001b[38;5;241m=\u001b[39m models\u001b[38;5;241m.\u001b[39mresnet50(pretrained \u001b[38;5;241m=\u001b[39m use_pretrain)\n\u001b[0;32m      3\u001b[0m model\u001b[38;5;241m.\u001b[39mfc \u001b[38;5;241m=\u001b[39m nn\u001b[38;5;241m.\u001b[39mLinear(model\u001b[38;5;241m.\u001b[39mfc\u001b[38;5;241m.\u001b[39min_features, \u001b[38;5;241m120\u001b[39m) \n\u001b[1;32m----> 4\u001b[0m model_load \u001b[38;5;241m=\u001b[39m \u001b[43mload_model\u001b[49m\u001b[43m(\u001b[49m\u001b[43msave_path_resnet\u001b[49m\u001b[43m,\u001b[49m\u001b[43m \u001b[49m\u001b[43mmodel\u001b[49m\u001b[43m)\u001b[49m\n",
      "File \u001b[1;32m<string>:2\u001b[0m, in \u001b[0;36mload_model\u001b[1;34m(model_path, net)\u001b[0m\n",
      "File \u001b[1;32mc:\\Users\\pbang\\AppData\\Local\\Programs\\Python\\Python312\\Lib\\site-packages\\torch\\serialization.py:1065\u001b[0m, in \u001b[0;36mload\u001b[1;34m(f, map_location, pickle_module, weights_only, mmap, **pickle_load_args)\u001b[0m\n\u001b[0;32m   1062\u001b[0m \u001b[38;5;28;01mif\u001b[39;00m \u001b[38;5;124m'\u001b[39m\u001b[38;5;124mencoding\u001b[39m\u001b[38;5;124m'\u001b[39m \u001b[38;5;129;01mnot\u001b[39;00m \u001b[38;5;129;01min\u001b[39;00m pickle_load_args\u001b[38;5;241m.\u001b[39mkeys():\n\u001b[0;32m   1063\u001b[0m     pickle_load_args[\u001b[38;5;124m'\u001b[39m\u001b[38;5;124mencoding\u001b[39m\u001b[38;5;124m'\u001b[39m] \u001b[38;5;241m=\u001b[39m \u001b[38;5;124m'\u001b[39m\u001b[38;5;124mutf-8\u001b[39m\u001b[38;5;124m'\u001b[39m\n\u001b[1;32m-> 1065\u001b[0m \u001b[38;5;28;01mwith\u001b[39;00m \u001b[43m_open_file_like\u001b[49m\u001b[43m(\u001b[49m\u001b[43mf\u001b[49m\u001b[43m,\u001b[49m\u001b[43m \u001b[49m\u001b[38;5;124;43m'\u001b[39;49m\u001b[38;5;124;43mrb\u001b[39;49m\u001b[38;5;124;43m'\u001b[39;49m\u001b[43m)\u001b[49m \u001b[38;5;28;01mas\u001b[39;00m opened_file:\n\u001b[0;32m   1066\u001b[0m     \u001b[38;5;28;01mif\u001b[39;00m _is_zipfile(opened_file):\n\u001b[0;32m   1067\u001b[0m         \u001b[38;5;66;03m# The zipfile reader is going to advance the current file position.\u001b[39;00m\n\u001b[0;32m   1068\u001b[0m         \u001b[38;5;66;03m# If we want to actually tail call to torch.jit.load, we need to\u001b[39;00m\n\u001b[0;32m   1069\u001b[0m         \u001b[38;5;66;03m# reset back to the original position.\u001b[39;00m\n\u001b[0;32m   1070\u001b[0m         orig_position \u001b[38;5;241m=\u001b[39m opened_file\u001b[38;5;241m.\u001b[39mtell()\n",
      "File \u001b[1;32mc:\\Users\\pbang\\AppData\\Local\\Programs\\Python\\Python312\\Lib\\site-packages\\torch\\serialization.py:468\u001b[0m, in \u001b[0;36m_open_file_like\u001b[1;34m(name_or_buffer, mode)\u001b[0m\n\u001b[0;32m    466\u001b[0m \u001b[38;5;28;01mdef\u001b[39;00m \u001b[38;5;21m_open_file_like\u001b[39m(name_or_buffer, mode):\n\u001b[0;32m    467\u001b[0m     \u001b[38;5;28;01mif\u001b[39;00m _is_path(name_or_buffer):\n\u001b[1;32m--> 468\u001b[0m         \u001b[38;5;28;01mreturn\u001b[39;00m \u001b[43m_open_file\u001b[49m\u001b[43m(\u001b[49m\u001b[43mname_or_buffer\u001b[49m\u001b[43m,\u001b[49m\u001b[43m \u001b[49m\u001b[43mmode\u001b[49m\u001b[43m)\u001b[49m\n\u001b[0;32m    469\u001b[0m     \u001b[38;5;28;01melse\u001b[39;00m:\n\u001b[0;32m    470\u001b[0m         \u001b[38;5;28;01mif\u001b[39;00m \u001b[38;5;124m'\u001b[39m\u001b[38;5;124mw\u001b[39m\u001b[38;5;124m'\u001b[39m \u001b[38;5;129;01min\u001b[39;00m mode:\n",
      "File \u001b[1;32mc:\\Users\\pbang\\AppData\\Local\\Programs\\Python\\Python312\\Lib\\site-packages\\torch\\serialization.py:449\u001b[0m, in \u001b[0;36m_open_file.__init__\u001b[1;34m(self, name, mode)\u001b[0m\n\u001b[0;32m    448\u001b[0m \u001b[38;5;28;01mdef\u001b[39;00m \u001b[38;5;21m__init__\u001b[39m(\u001b[38;5;28mself\u001b[39m, name, mode):\n\u001b[1;32m--> 449\u001b[0m     \u001b[38;5;28msuper\u001b[39m()\u001b[38;5;241m.\u001b[39m\u001b[38;5;21m__init__\u001b[39m(\u001b[38;5;28;43mopen\u001b[39;49m\u001b[43m(\u001b[49m\u001b[43mname\u001b[49m\u001b[43m,\u001b[49m\u001b[43m \u001b[49m\u001b[43mmode\u001b[49m\u001b[43m)\u001b[49m)\n",
      "\u001b[1;31mFileNotFoundError\u001b[0m: [Errno 2] No such file or directory: 'C:/Users/pbang/Downloads/model_resnet.pth'"
     ]
    }
   ],
   "source": [
    "use_pretrain = True\n",
    "model = models.resnet50(pretrained = use_pretrain)\n",
    "model.fc = nn.Linear(model.fc.in_features, 120) \n",
    "model_load = load_model(save_path_resnet, model)"
   ]
  },
  {
   "cell_type": "code",
   "execution_count": null,
   "metadata": {},
   "outputs": [],
   "source": [
    "# Lưu ảnh và nhãn vào hai list\n",
    "data_animal_1, labels_1 = get_image_paths(data_directory_Test)\n",
    "data_animal_2, labels_2 = get_image_paths(data_directory_animals)\n",
    "data_animal = data_animal_1 + data_animal_2\n",
    "labels = list(set(labels_1 + labels_2))\n",
    "labels = sorted(labels)"
   ]
  },
  {
   "cell_type": "code",
   "execution_count": null,
   "metadata": {},
   "outputs": [],
   "source": [
    "# Loại bỏ các nhãn trùng lặp (ví dụ: cattle với cow thì loại bỏ cattle)\n",
    "labels.remove(\"ladybugs\")\n",
    "labels.remove('moth')\n",
    "labels.remove('cattle')"
   ]
  },
  {
   "cell_type": "code",
   "execution_count": null,
   "metadata": {},
   "outputs": [],
   "source": [
    "# Tạo hai dict để đối chiếu từ nhãn sang số và số sang nhãn\n",
    "label_to_id = {name: idx for idx, name in enumerate(labels)}\n",
    "id_to_label = {idx: name for name, idx in label_to_id.items()}"
   ]
  },
  {
   "cell_type": "code",
   "execution_count": null,
   "metadata": {},
   "outputs": [],
   "source": [
    "def upload_image():\n",
    "    file_path = filedialog.askopenfilename()\n",
    "    if file_path:\n",
    "        drop(file_path)\n",
    "\n",
    "\n",
    "def process_image(image_path):\n",
    "    \"\"\" Xử lý ảnh và dự đoán \"\"\"\n",
    "    image = Image.open(image_path).convert(\"RGB\")\n",
    "    image = image.resize((224, 224))\n",
    "    img_tk = ImageTk.PhotoImage(image)\n",
    "    image_label.config(image=img_tk)\n",
    "    image_label.image = img_tk\n",
    "\n",
    "    # Chuyển đổi ảnh thành tensor\n",
    "    transform = transforms.Compose([\n",
    "        transforms.ToTensor(),\n",
    "        transforms.Normalize([0.5], [0.5])\n",
    "    ])\n",
    "    image_tensor = transform(image).unsqueeze(0)\n",
    "\n",
    "    # Dự đoán\n",
    "    prediction = model.predict(image_tensor)\n",
    "    result_label.config(text=f\"Dự đoán: {id_to_label[prediction]}\")\n",
    "    result_label.place(relx=0.5, rely=0.55, anchor=\"center\")\n",
    "\n",
    "def reset():\n",
    "    \"\"\"Khôi phục trạng thái ban đầu\"\"\"\n",
    "    image_label.place_forget()  # Ẩn ảnh dự đoán\n",
    "    label.place(relx=0.5, rely=0.3, anchor=\"center\")  # Hiện lại vùng kéo thả\n",
    "    result_label.place_forget() # Xóa nhãn dự đoán\n",
    "    btn_reset.place_forget()  # Ẩn nút Reset\n",
    "    upload_btn.place(relx=0.5, rely=0.8, anchor=\"center\")\n",
    "    drag_leave(True)\n",
    "\n",
    "\n",
    "def drop(event):\n",
    "    \"\"\" Xử lý khi kéo thả ảnh vào \"\"\"\n",
    "    if isinstance(event, str):\n",
    "        file_path = event.strip(\"{}\")\n",
    "    else:\n",
    "        file_path = event.data.strip(\"{}\")  # Xóa dấu {} nếu có\n",
    "    label.place_forget()\n",
    "    image_label.place(relx=0.5, rely=0.3, anchor=\"center\")\n",
    "    process_image(file_path)\n",
    "    # Hiển thị nút reset\n",
    "    btn_reset.place(relx=0.5, rely=0.8, anchor=\"center\")\n",
    "    upload_btn.place_forget()\n",
    "\n",
    "\n",
    "# Hiệu ứng đổi màu viền khi kéo ảnh vào\n",
    "def drag_enter(event):\n",
    "    label.config(bg=\"lightgray\", bd=4, relief=\"ridge\")  # Viền nổi lên\n",
    "\n",
    "\n",
    "def drag_leave(event):\n",
    "    label.config(bg=\"gray\", bd=2, relief=\"solid\")  # Viền trở lại bình thường"
   ]
  },
  {
   "cell_type": "code",
   "execution_count": null,
   "metadata": {},
   "outputs": [],
   "source": [
    "from tkinter import Label, Button, filedialog\n"
   ]
  },
  {
   "cell_type": "code",
   "execution_count": null,
   "metadata": {},
   "outputs": [],
   "source": [
    "\n",
    "# Khởi tạo mô hình\n",
    "model = Model(model_load)\n",
    "\n",
    "# Khởi tạo cửa sổ Tkinter hỗ trợ kéo thả\n",
    "root = TkinterDnD.Tk()\n",
    "root.title(\"Phân loại ảnh động vật\")\n",
    "root.geometry(\"600x600\")\n",
    "\n",
    "# Mở ảnh nền\n",
    "bg_image = Image.open(\"C:/Users/pbang/Downloads/hinh-nen-nen-xanh-duong-powerpoint-cute_092909120.jpg\")  # Đưa ảnh nền vào\n",
    "bg_image = bg_image.resize((600, 600), Image.Resampling.LANCZOS)  # Resize cho vừa cửa sổ\n",
    "bg_photo = ImageTk.PhotoImage(bg_image)\n",
    "\n",
    "# Tạo label để chứa ảnh nền\n",
    "bg_label = tk.Label(root, image=bg_photo)\n",
    "bg_label.place(relwidth=1, relheight=1)  # Phủ toàn bộ cửa sổ\n",
    "\n",
    "# Vùng kéo thả ảnh\n",
    "label = Label(root, text=\"Đưa ảnh vào đây\", bg=\"gray\", fg=\"white\", width=50, height=10)\n",
    "label.place(relx=0.5, rely=0.3, anchor=\"center\")  # Đặt giữa màn hình\n",
    "\n",
    "# Hiển thị ảnh\n",
    "image_label = Label(root)\n",
    "\n",
    "# Hiển thị kết quả\n",
    "result_label = Label(root, text=\"\", font=(\"Arial\", 14, \"bold\"))\n",
    "\n",
    "upload_btn = tk.Button(root, text=\"Chọn ảnh\", command=upload_image, font=(\"Arial\", 12), bg=\"#FFD700\", fg=\"black\", relief=\"raised\")\n",
    "upload_btn.place(relx=0.5, rely=0.8, anchor=\"center\")\n",
    "\n",
    "btn_reset = tk.Button(root, text=\"Reset\", command=reset, font=(\"Arial\", 12), bg=\"#FF4500\", fg=\"white\", relief=\"raised\", padx=10, pady=5)\n",
    "\n",
    "# Kết nối sự kiện kéo thả\n",
    "label.drop_target_register(DND_FILES)\n",
    "label.dnd_bind(\"<<Drop>>\", drop)\n",
    "label.dnd_bind(\"<<DropEnter>>\", drag_enter)\n",
    "label.dnd_bind(\"<<DropLeave>>\", drag_leave)\n",
    "# Chạy chương trình\n",
    "root.mainloop()\n"
   ]
  }
 ],
 "metadata": {
  "kernelspec": {
   "display_name": "Python 3",
   "language": "python",
   "name": "python3"
  },
  "language_info": {
   "codemirror_mode": {
    "name": "ipython",
    "version": 3
   },
   "file_extension": ".py",
   "mimetype": "text/x-python",
   "name": "python",
   "nbconvert_exporter": "python",
   "pygments_lexer": "ipython3",
   "version": "3.12.3"
  }
 },
 "nbformat": 4,
 "nbformat_minor": 2
}
