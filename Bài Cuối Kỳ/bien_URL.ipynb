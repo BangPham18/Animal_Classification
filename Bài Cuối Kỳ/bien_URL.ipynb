{
 "cells": [
  {
   "cell_type": "code",
   "execution_count": 1,
   "metadata": {},
   "outputs": [],
   "source": [
    "data_directory_Test = \"C:/Users/pbang/Downloads/Test\"\n",
    "data_directory_animals = \"C:/Users/pbang/Downloads/animals/animals\"\n",
    "save_path_resnet = 'C:/Users/pbang/Downloads/Bài Cuối Kỳ/model_resnet.pth'\n",
    "save_path_vgg = \"C:/Users/pbang/Downloads/Bài Cuối Kỳ/model_vgg.pth\"\n"
   ]
  }
 ],
 "metadata": {
  "kernelspec": {
   "display_name": "Python 3",
   "language": "python",
   "name": "python3"
  },
  "language_info": {
   "codemirror_mode": {
    "name": "ipython",
    "version": 3
   },
   "file_extension": ".py",
   "mimetype": "text/x-python",
   "name": "python",
   "nbconvert_exporter": "python",
   "pygments_lexer": "ipython3",
   "version": "3.12.3"
  }
 },
 "nbformat": 4,
 "nbformat_minor": 2
}
